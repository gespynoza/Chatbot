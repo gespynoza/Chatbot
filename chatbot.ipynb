{
  "cells": [
    {
      "cell_type": "code",
      "execution_count": null,
      "metadata": {
        "id": "ENMr4UZl2vXK"
      },
      "outputs": [],
      "source": [
        "pip install openai"
      ]
    },
    {
      "cell_type": "code",
      "execution_count": null,
      "metadata": {
        "colab": {
          "base_uri": "https://localhost:8080/"
        },
        "id": "OOagcsRk_pyr",
        "outputId": "742161a0-7369-4413-850e-018ddbe9e251"
      },
      "outputs": [],
      "source": [
        "pip install gradio"
      ]
    },
    {
      "cell_type": "code",
      "execution_count": null,
      "metadata": {
        "id": "8K5bwEQt_isU"
      },
      "outputs": [],
      "source": [
        "pip install wolframalpha"
      ]
    },
    {
      "cell_type": "code",
      "execution_count": null,
      "metadata": {
        "id": "qpimbUiK2wrx"
      },
      "outputs": [],
      "source": [
        "import openai\n",
        "import gradio\n",
        "import gradio as gr\n",
        "import wolframalpha"
      ]
    },
    {
      "cell_type": "code",
      "execution_count": null,
      "metadata": {
        "id": "NUjBblUO2w6F"
      },
      "outputs": [],
      "source": [
        "openai.api_key = '#######'"
      ]
    },
    {
      "cell_type": "code",
      "execution_count": null,
      "metadata": {
        "id": "6ZcDefl3_UDG"
      },
      "outputs": [],
      "source": [
        "client = wolframalpha.Client('######')\n",
        "\n"
      ]
    },
    {
      "cell_type": "code",
      "execution_count": null,
      "metadata": {
        "colab": {
          "base_uri": "https://localhost:8080/",
          "height": 591
        },
        "id": "l43VYSNF24DZ",
        "outputId": "f4ee5f9b-f7eb-4803-8438-a684a1821dfc"
      },
      "outputs": [
        {
          "name": "stdout",
          "output_type": "stream",
          "text": [
            "Colab notebook detected. To show errors in colab notebook, set debug=True in launch()\n",
            "Running on public URL: https://368e5ec6a9ede7e48c.gradio.live\n",
            "\n",
            "This share link expires in 72 hours. For free permanent hosting and GPU upgrades (NEW!), check out Spaces: https://huggingface.co/spaces\n"
          ]
        },
        {
          "data": {
            "text/html": [
              "<div><iframe src=\"https://368e5ec6a9ede7e48c.gradio.live\" width=\"100%\" height=\"500\" allow=\"autoplay; camera; microphone; clipboard-read; clipboard-write;\" frameborder=\"0\" allowfullscreen></iframe></div>"
            ],
            "text/plain": [
              "<IPython.core.display.HTML object>"
            ]
          },
          "metadata": {},
          "output_type": "display_data"
        },
        {
          "data": {
            "text/plain": []
          },
          "execution_count": 12,
          "metadata": {},
          "output_type": "execute_result"
        }
      ],
      "source": [
        "\n",
        "\n",
        "messages = [{\"role\": \"user\", \"content\": \"You are a master like Socrates\"}]\n",
        "\n",
        "# Define a list of keywords that Wolfram Alpha is likely to handle well\n",
        "wolfram_keywords = ['calculate', 'solve', 'convert', 'what is', 'who is', 'where is', 'when did', 'how many', 'how much']\n",
        "\n",
        "def CustomChatGPT(user_input):\n",
        "    messages.append({\"role\": \"user\", \"content\": user_input})\n",
        "\n",
        "    # Check if any of the Wolfram keywords are in the user input\n",
        "    use_wolfram = any(keyword in user_input.lower() for keyword in wolfram_keywords)\n",
        "\n",
        "    if use_wolfram:\n",
        "        # Try using Wolfram Alpha\n",
        "        wolfram_res = client.query(user_input)\n",
        "        try:\n",
        "            ChatGPT_reply = next(wolfram_res.results).text\n",
        "        except StopIteration:\n",
        "            # If Wolfram fails, fall back to GPT-3.5-turbo\n",
        "            use_wolfram = False\n",
        "\n",
        "    if not use_wolfram:\n",
        "        # Use GPT-3.5-turbo\n",
        "        response = openai.ChatCompletion.create(\n",
        "            model = \"gpt-3.5-turbo\",\n",
        "            messages = messages\n",
        "        )\n",
        "        ChatGPT_reply = response[\"choices\"][0][\"message\"][\"content\"]\n",
        "\n",
        "    messages.append({\"role\": \"system\", \"content\": ChatGPT_reply})\n",
        "\n",
        "    return ChatGPT_reply\n",
        "\n",
        "demo = gr.Interface(fn=CustomChatGPT, inputs=\"text\", outputs=\"text\", title=\"TECLIN\")\n",
        "\n",
        "demo.launch(share=True)\n",
        "\n"
      ]
    },
    {
      "cell_type": "code",
      "execution_count": null,
      "metadata": {
        "id": "zC8n8WH_xvWe"
      },
      "outputs": [],
      "source": []
    },
    {
      "cell_type": "code",
      "execution_count": null,
      "metadata": {
        "id": "v5n-k07Axv0_"
      },
      "outputs": [],
      "source": []
    },
    {
      "cell_type": "code",
      "execution_count": null,
      "metadata": {
        "colab": {
          "base_uri": "https://localhost:8080/",
          "height": 591
        },
        "id": "SA_KWVgLMt1p",
        "outputId": "9d310352-efb2-4a16-c92d-786938ef37e1"
      },
      "outputs": [
        {
          "name": "stdout",
          "output_type": "stream",
          "text": [
            "Colab notebook detected. To show errors in colab notebook, set debug=True in launch()\n",
            "Running on public URL: https://2f131f26ee8fcf903b.gradio.live\n",
            "\n",
            "This share link expires in 72 hours. For free permanent hosting and GPU upgrades (NEW!), check out Spaces: https://huggingface.co/spaces\n"
          ]
        },
        {
          "data": {
            "text/html": [
              "<div><iframe src=\"https://2f131f26ee8fcf903b.gradio.live\" width=\"100%\" height=\"500\" allow=\"autoplay; camera; microphone; clipboard-read; clipboard-write;\" frameborder=\"0\" allowfullscreen></iframe></div>"
            ],
            "text/plain": [
              "<IPython.core.display.HTML object>"
            ]
          },
          "metadata": {},
          "output_type": "display_data"
        },
        {
          "data": {
            "text/plain": []
          },
          "execution_count": 15,
          "metadata": {},
          "output_type": "execute_result"
        }
      ],
      "source": [
        "import gradio\n",
        "import openai\n",
        "\n",
        "# Initialize the messages list with a system role\n",
        "messages = [\n",
        "    {\"role\": \"system\", \"content\": \"You are a professor\"},\n",
        "    {\"role\": \"user\", \"content\": \"Hello, I need some help.\"},\n",
        "    {\"role\": \"assistant\", \"content\": \"Sure, I'm here to assist you.\"},\n",
        "]\n",
        "\n",
        "def CustomChatGPT(user_input):\n",
        "    # Append user input with the user role\n",
        "    messages.append({\"role\": \"user\", \"content\": user_input})\n",
        "\n",
        "    # Generate response from the chatbot model\n",
        "    response = openai.ChatCompletion.create(\n",
        "        model=\"gpt-3.5-turbo\",\n",
        "        messages=messages\n",
        "    )\n",
        "    ChatGPT_reply = response[\"choices\"][0][\"message\"][\"content\"]\n",
        "\n",
        "    # Assign different roles based on the conversation flow\n",
        "    if \"professor\" in ChatGPT_reply.lower():\n",
        "        role = \"professor\"\n",
        "    elif \"psychologist\" in ChatGPT_reply.lower():\n",
        "        role = \"psychologist\"\n",
        "    elif \"psychotherapist\" in ChatGPT_reply.lower():\n",
        "        role = \"psychotherapist\"\n",
        "    elif \"classmate\" in ChatGPT_reply.lower():\n",
        "        role = \"classmate\"\n",
        "    elif \"socrates\" in ChatGPT_reply.lower():\n",
        "        role = \"Socrates\"\n",
        "    else:\n",
        "        role = \"assistant\"\n",
        "\n",
        "    # Append chatbot's reply with the appropriate role\n",
        "    messages.append({\"role\": role, \"content\": ChatGPT_reply})\n",
        "\n",
        "    return ChatGPT_reply\n",
        "\n",
        "demo = gradio.Interface(\n",
        "    fn=CustomChatGPT,\n",
        "    inputs=\"text\",\n",
        "    outputs=\"text\",\n",
        "    title=\"TECLIN\"\n",
        ")\n",
        "\n",
        "demo.launch(share=True)\n"
      ]
    }
  ],
  "metadata": {
    "colab": {
      "provenance": []
    },
    "kernelspec": {
      "display_name": "Python 3",
      "name": "python3"
    },
    "language_info": {
      "name": "python"
    }
  },
  "nbformat": 4,
  "nbformat_minor": 0
}
